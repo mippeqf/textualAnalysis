{
 "metadata": {
  "language_info": {
   "codemirror_mode": {
    "name": "ipython",
    "version": 3
   },
   "file_extension": ".py",
   "mimetype": "text/x-python",
   "name": "python",
   "nbconvert_exporter": "python",
   "pygments_lexer": "ipython3",
   "version": "3.9.4"
  },
  "orig_nbformat": 2,
  "kernelspec": {
   "name": "python394jvsc74a57bd020a0bce9f656e196dac732331f9b5209e1e1145e71a26d7add7eff91b0fc8a87",
   "display_name": "Python 3.9.4 64-bit"
  },
  "metadata": {
   "interpreter": {
    "hash": "20a0bce9f656e196dac732331f9b5209e1e1145e71a26d7add7eff91b0fc8a87"
   }
  }
 },
 "nbformat": 4,
 "nbformat_minor": 2,
 "cells": [
  {
   "source": [
    "import json\n",
    "import requests\n",
    "from bs4 import BeautifulSoup"
   ],
   "cell_type": "code",
   "metadata": {},
   "execution_count": 3,
   "outputs": [
    {
     "output_type": "error",
     "ename": "ModuleNotFoundError",
     "evalue": "No module named 'bs4'",
     "traceback": [
      "\u001b[1;31m---------------------------------------------------------------------------\u001b[0m",
      "\u001b[1;31mModuleNotFoundError\u001b[0m                       Traceback (most recent call last)",
      "\u001b[1;32m<ipython-input-3-8a1bfd2c503e>\u001b[0m in \u001b[0;36m<module>\u001b[1;34m\u001b[0m\n\u001b[0;32m      1\u001b[0m \u001b[1;32mimport\u001b[0m \u001b[0mjson\u001b[0m\u001b[1;33m\u001b[0m\u001b[1;33m\u001b[0m\u001b[0m\n\u001b[0;32m      2\u001b[0m \u001b[1;32mimport\u001b[0m \u001b[0mrequests\u001b[0m\u001b[1;33m\u001b[0m\u001b[1;33m\u001b[0m\u001b[0m\n\u001b[1;32m----> 3\u001b[1;33m \u001b[1;32mfrom\u001b[0m \u001b[0mbs4\u001b[0m \u001b[1;32mimport\u001b[0m \u001b[0mBeautifulSoup\u001b[0m\u001b[1;33m\u001b[0m\u001b[1;33m\u001b[0m\u001b[0m\n\u001b[0m",
      "\u001b[1;31mModuleNotFoundError\u001b[0m: No module named 'bs4'"
     ]
    }
   ]
  },
  {
   "cell_type": "code",
   "execution_count": null,
   "metadata": {},
   "outputs": [],
   "source": [
    "# TODO: Add parent label to labels containing \"HTML\" or \"PDF\"\n",
    "# Setup\n",
    "recentList = \"https://www.federalreserve.gov/monetarypolicy/fomccalendars.htm\"\n",
    "archiveList = \"https://www.federalreserve.gov/monetarypolicy/fomc_historical_year.htm\"\n",
    "data = []  # main dict list containing links and metadata\n",
    "yearList = []  # helper list"
   ]
  },
  {
   "cell_type": "code",
   "execution_count": null,
   "metadata": {},
   "outputs": [],
   "source": [
    "# HTML links for past 5 years\n",
    "soup = BeautifulSoup(requests.get(recentList).content, features=\"html.parser\")\n",
    "containers = soup.find_all(\"div\", class_=\"panel\")\n",
    "for cont in containers:\n",
    "    for linkTag in cont.find_all(\"a\"):\n",
    "        year = cont.find(class_=\"panel-heading\").get_text(strip=True).replace(\"FOMC Meetings\", \"\").strip()\n",
    "        if linkTag != None and linkTag.has_attr(\"href\"):  # and \"minutes\" in linkTag[\"href\"].lower():\n",
    "            newEntry = {\"year\": year, \"meeting\": \"\", \"label\": linkTag.get_text(), \"link\": \"https://www.federalreserve.gov\"+linkTag[\"href\"]}\n",
    "            data.append(newEntry)\n"
   ]
  },
  {
   "cell_type": "code",
   "execution_count": null,
   "metadata": {},
   "outputs": [],
   "source": [
    "# Compile list of pages for individual archive years\n",
    "soup = BeautifulSoup(requests.get(archiveList).content, features=\"html.parser\")\n",
    "yearLinks = soup.select(\".panel > ul> li > a\")  # CSS selector implementation based on SoupSieve\n",
    "for link in yearLinks:\n",
    "    if link != None:\n",
    "        yearList.append(\"https://www.federalreserve.gov\"+link[\"href\"])  # href needs to be called with [\"href\"], .href does not work\n"
   ]
  },
  {
   "cell_type": "code",
   "execution_count": null,
   "metadata": {},
   "outputs": [],
   "source": [
    "# Scrape HTML links from archive year pages and add to data list\n",
    "for link in yearList:\n",
    "    soup = BeautifulSoup(requests.get(link).content, features=\"html.parser\")\n",
    "    year = soup.find(\"h3\").get_text()  # not fool proof\n",
    "    print(\"Archive year: \", year, link)\n",
    "    if int(year) < 1993:\n",
    "        break\n",
    "    containers = soup.find_all(\"div\", class_=\"panel\")\n",
    "    print(\"Number of containers: \", len(containers))\n",
    "    for cont in containers:\n",
    "        for linkTag in cont.find_all(\"a\"):\n",
    "            meeting = cont.find(class_=\"panel-heading\").get_text(strip=True)\n",
    "            if linkTag != None:  # and \"minutes\" in linkTag[\"href\"].lower():\n",
    "                newEntry = {\"year\": year, \"meeting\": meeting, \"label\": linkTag.get_text(), \"link\": \"https://www.federalreserve.gov\"+linkTag[\"href\"]}\n",
    "                data.append(newEntry)\n",
    "                # print(\"Extracted information: \", newEntry)\n",
    "    print(len(data))\n",
    "    print()\n"
   ]
  },
  {
   "cell_type": "code",
   "execution_count": null,
   "metadata": {},
   "outputs": [],
   "source": [
    "# Append data type\n",
    "for i, entry in enumerate(data):\n",
    "    entry[\"type\"] = entry[\"link\"].split(\".\")[-1]\n",
    "    data[i] = entry\n",
    "\n",
    "# Save data to textfile\n",
    "with open(\"data/fomcLinks.txt\", \"w\") as filehandle:\n",
    "    json.dump(data, filehandle)\n"
   ]
  }
 ]
}